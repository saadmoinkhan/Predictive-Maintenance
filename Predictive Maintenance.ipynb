{
 "cells": [
  {
   "cell_type": "markdown",
   "id": "865bcf05",
   "metadata": {},
   "source": [
    "# Predictive Maintenance"
   ]
  },
  {
   "cell_type": "markdown",
   "id": "bd4f7992",
   "metadata": {},
   "source": [
    "#### This project uses the power of machine learning for early detection of equipment failure or equipment condition in order to </br></br> preemptively trigger a maintenance alert to avoid machine failure which could have lead to serious consequences."
   ]
  },
  {
   "cell_type": "markdown",
   "id": "98e7874c",
   "metadata": {},
   "source": [
    "</br> \n",
    "\n",
    "* In this project, we will be analyzing airplane engine data but this can be applied to other machinery as well. We will try to predict the remaining useful life of the aircraft engine.</br></br>\n",
    "\n",
    "* In summary, the scenario employs simulated aircraft data from 21 sensors to anticipate when an aircraft engine would fail in the future, allowing for proactive maintenance planning.\n"
   ]
  },
  {
   "cell_type": "code",
   "execution_count": 1,
   "id": "eaac32bb",
   "metadata": {},
   "outputs": [],
   "source": [
    "#importing the libraries\n",
    "\n",
    "import pandas as pd\n",
    "import numpy as np\n",
    "import keras\n",
    "import os\n",
    "\n",
    "from sklearn.preprocessing import MinMaxScaler\n",
    "\n",
    "%matplotlib inline\n",
    "import matplotlib.pyplot as plt\n",
    "\n",
    "from keras.models import Sequential\n",
    "from keras.layers import Dense, Dropout, LSTM, Activation"
   ]
  },
  {
   "cell_type": "code",
   "execution_count": null,
   "id": "d65e5967",
   "metadata": {},
   "outputs": [],
   "source": []
  },
  {
   "cell_type": "markdown",
   "id": "de084884",
   "metadata": {},
   "source": [
    "## 1. Data Preparation"
   ]
  },
  {
   "cell_type": "markdown",
   "id": "e1426fe5",
   "metadata": {},
   "source": [
    "We will download the data from azure sample data for machine learning. We will downloading three files :-\n",
    "\n",
    "* <b>PM_train.txt</b> - The training data consists of multiple multivariate time series with \"cycle\" as the time unit, together with 21 sensor readings for each cycle. Each time series can be assumed as being generated from a different engine of the same type. When a predefined threshold is reached, then the engine is considered unsafe for further operation. </br><b>In other words, the last cycle in each time series can be considered as the failure point of the corresponding engine.</b></br></br>\n",
    "\n",
    "* <b>PM_test.txt</b> - The testing data has the same data schema as the training data. The only difference is that the data does not indicate when the failure occurs (in other words, the last time period does NOT represent the failure point). It is not shown how many more cycles this engine can last before it fails.</br></br>\n",
    "\n",
    "* <b>PM_truth.txt</b> - The ground truth data (\"RUL_FD001.txt\") provides the number of remaining working cycles for the engines in the testing data."
   ]
  },
  {
   "cell_type": "markdown",
   "id": "aa59ef11",
   "metadata": {},
   "source": [
    "### 1.1 Data Loading"
   ]
  },
  {
   "cell_type": "code",
   "execution_count": 2,
   "id": "8ac3e7fc",
   "metadata": {},
   "outputs": [],
   "source": [
    "# Loading the data into dataframes\n",
    "\n",
    "train_df = pd.read_csv('PM_train.txt', sep = ' ', header = None)\n",
    "test_df = pd.read_csv('PM_test.txt', sep = ' ', header = None)\n",
    "truth_df = pd.read_csv('PM_truth.txt', sep = ' ', header = None)\n",
    "\n",
    "#Dropping unnecessary columns\n",
    "train_df.drop(train_df.columns[[26,27]], axis = 1, inplace = True)\n",
    "test_df.drop(test_df.columns[[26,27]], axis = 1, inplace = True)\n",
    "truth_df.drop(truth_df.columns[[1]], axis=1, inplace=True)\n",
    "\n",
    "#Renaming Columns\n",
    "columns = ['id', 'cycle', 'setting1', 'setting2', 'setting3', 's1', 's2', 's3',\n",
    "                     's4', 's5', 's6', 's7', 's8', 's9', 's10', 's11', 's12', 's13', 's14',\n",
    "                     's15', 's16', 's17', 's18', 's19', 's20', 's21']\n",
    "\n",
    "train_df.columns = columns\n",
    "test_df.columns = columns\n",
    "\n",
    "#Sorting Dataframe\n",
    "train_df = train_df.sort_values(['id', 'cycle'])"
   ]
  },
  {
   "cell_type": "markdown",
   "id": "9665066c",
   "metadata": {},
   "source": [
    "### 1.2 Data preprocessing"
   ]
  },
  {
   "cell_type": "markdown",
   "id": "f02f0cd7",
   "metadata": {},
   "source": [
    "As we assume that last observation in the train dataframe is the failure point, we need to generate labels. We will calculate the Remaining Useful Life (RUL) column for each cycle in the data."
   ]
  },
  {
   "cell_type": "code",
   "execution_count": 3,
   "id": "87c86ff9",
   "metadata": {},
   "outputs": [],
   "source": [
    "rul = pd.DataFrame(train_df.groupby('id')['cycle'].max()).reset_index()\n",
    "rul.columns = ['id', 'max']\n",
    "\n",
    "train_df = train_df.merge(rul, on = ['id'], how = 'left')\n",
    "train_df['RUL'] = train_df['max'] - train_df['cycle']\n",
    "train_df.drop('max', axis = 1, inplace = True)\n",
    "#train_df.head()"
   ]
  },
  {
   "cell_type": "markdown",
   "id": "9d216197",
   "metadata": {},
   "source": [
    "Let's create a new lable for time to failure. We will generate two labels:-\n",
    "* label_1 - Indicating engine will fail within a month(30 days)\n",
    "* label_2 - Indicating healthy, RUL <= 30, RUL <= 15"
   ]
  },
  {
   "cell_type": "code",
   "execution_count": 4,
   "id": "aeffb47b",
   "metadata": {},
   "outputs": [
    {
     "data": {
      "text/html": [
       "<div>\n",
       "<style scoped>\n",
       "    .dataframe tbody tr th:only-of-type {\n",
       "        vertical-align: middle;\n",
       "    }\n",
       "\n",
       "    .dataframe tbody tr th {\n",
       "        vertical-align: top;\n",
       "    }\n",
       "\n",
       "    .dataframe thead th {\n",
       "        text-align: right;\n",
       "    }\n",
       "</style>\n",
       "<table border=\"1\" class=\"dataframe\">\n",
       "  <thead>\n",
       "    <tr style=\"text-align: right;\">\n",
       "      <th></th>\n",
       "      <th>id</th>\n",
       "      <th>cycle</th>\n",
       "      <th>setting1</th>\n",
       "      <th>setting2</th>\n",
       "      <th>setting3</th>\n",
       "      <th>s1</th>\n",
       "      <th>s2</th>\n",
       "      <th>s3</th>\n",
       "      <th>s4</th>\n",
       "      <th>s5</th>\n",
       "      <th>...</th>\n",
       "      <th>s15</th>\n",
       "      <th>s16</th>\n",
       "      <th>s17</th>\n",
       "      <th>s18</th>\n",
       "      <th>s19</th>\n",
       "      <th>s20</th>\n",
       "      <th>s21</th>\n",
       "      <th>RUL</th>\n",
       "      <th>label_1</th>\n",
       "      <th>label_2</th>\n",
       "    </tr>\n",
       "  </thead>\n",
       "  <tbody>\n",
       "    <tr>\n",
       "      <th>0</th>\n",
       "      <td>1</td>\n",
       "      <td>1</td>\n",
       "      <td>-0.0007</td>\n",
       "      <td>-0.0004</td>\n",
       "      <td>100.0</td>\n",
       "      <td>518.67</td>\n",
       "      <td>641.82</td>\n",
       "      <td>1589.70</td>\n",
       "      <td>1400.60</td>\n",
       "      <td>14.62</td>\n",
       "      <td>...</td>\n",
       "      <td>8.4195</td>\n",
       "      <td>0.03</td>\n",
       "      <td>392</td>\n",
       "      <td>2388</td>\n",
       "      <td>100.0</td>\n",
       "      <td>39.06</td>\n",
       "      <td>23.4190</td>\n",
       "      <td>191</td>\n",
       "      <td>0</td>\n",
       "      <td>0</td>\n",
       "    </tr>\n",
       "    <tr>\n",
       "      <th>1</th>\n",
       "      <td>1</td>\n",
       "      <td>2</td>\n",
       "      <td>0.0019</td>\n",
       "      <td>-0.0003</td>\n",
       "      <td>100.0</td>\n",
       "      <td>518.67</td>\n",
       "      <td>642.15</td>\n",
       "      <td>1591.82</td>\n",
       "      <td>1403.14</td>\n",
       "      <td>14.62</td>\n",
       "      <td>...</td>\n",
       "      <td>8.4318</td>\n",
       "      <td>0.03</td>\n",
       "      <td>392</td>\n",
       "      <td>2388</td>\n",
       "      <td>100.0</td>\n",
       "      <td>39.00</td>\n",
       "      <td>23.4236</td>\n",
       "      <td>190</td>\n",
       "      <td>0</td>\n",
       "      <td>0</td>\n",
       "    </tr>\n",
       "    <tr>\n",
       "      <th>2</th>\n",
       "      <td>1</td>\n",
       "      <td>3</td>\n",
       "      <td>-0.0043</td>\n",
       "      <td>0.0003</td>\n",
       "      <td>100.0</td>\n",
       "      <td>518.67</td>\n",
       "      <td>642.35</td>\n",
       "      <td>1587.99</td>\n",
       "      <td>1404.20</td>\n",
       "      <td>14.62</td>\n",
       "      <td>...</td>\n",
       "      <td>8.4178</td>\n",
       "      <td>0.03</td>\n",
       "      <td>390</td>\n",
       "      <td>2388</td>\n",
       "      <td>100.0</td>\n",
       "      <td>38.95</td>\n",
       "      <td>23.3442</td>\n",
       "      <td>189</td>\n",
       "      <td>0</td>\n",
       "      <td>0</td>\n",
       "    </tr>\n",
       "    <tr>\n",
       "      <th>3</th>\n",
       "      <td>1</td>\n",
       "      <td>4</td>\n",
       "      <td>0.0007</td>\n",
       "      <td>0.0000</td>\n",
       "      <td>100.0</td>\n",
       "      <td>518.67</td>\n",
       "      <td>642.35</td>\n",
       "      <td>1582.79</td>\n",
       "      <td>1401.87</td>\n",
       "      <td>14.62</td>\n",
       "      <td>...</td>\n",
       "      <td>8.3682</td>\n",
       "      <td>0.03</td>\n",
       "      <td>392</td>\n",
       "      <td>2388</td>\n",
       "      <td>100.0</td>\n",
       "      <td>38.88</td>\n",
       "      <td>23.3739</td>\n",
       "      <td>188</td>\n",
       "      <td>0</td>\n",
       "      <td>0</td>\n",
       "    </tr>\n",
       "    <tr>\n",
       "      <th>4</th>\n",
       "      <td>1</td>\n",
       "      <td>5</td>\n",
       "      <td>-0.0019</td>\n",
       "      <td>-0.0002</td>\n",
       "      <td>100.0</td>\n",
       "      <td>518.67</td>\n",
       "      <td>642.37</td>\n",
       "      <td>1582.85</td>\n",
       "      <td>1406.22</td>\n",
       "      <td>14.62</td>\n",
       "      <td>...</td>\n",
       "      <td>8.4294</td>\n",
       "      <td>0.03</td>\n",
       "      <td>393</td>\n",
       "      <td>2388</td>\n",
       "      <td>100.0</td>\n",
       "      <td>38.90</td>\n",
       "      <td>23.4044</td>\n",
       "      <td>187</td>\n",
       "      <td>0</td>\n",
       "      <td>0</td>\n",
       "    </tr>\n",
       "  </tbody>\n",
       "</table>\n",
       "<p>5 rows × 29 columns</p>\n",
       "</div>"
      ],
      "text/plain": [
       "   id  cycle  setting1  setting2  setting3      s1      s2       s3       s4  \\\n",
       "0   1      1   -0.0007   -0.0004     100.0  518.67  641.82  1589.70  1400.60   \n",
       "1   1      2    0.0019   -0.0003     100.0  518.67  642.15  1591.82  1403.14   \n",
       "2   1      3   -0.0043    0.0003     100.0  518.67  642.35  1587.99  1404.20   \n",
       "3   1      4    0.0007    0.0000     100.0  518.67  642.35  1582.79  1401.87   \n",
       "4   1      5   -0.0019   -0.0002     100.0  518.67  642.37  1582.85  1406.22   \n",
       "\n",
       "      s5  ...     s15   s16  s17   s18    s19    s20      s21  RUL  label_1  \\\n",
       "0  14.62  ...  8.4195  0.03  392  2388  100.0  39.06  23.4190  191        0   \n",
       "1  14.62  ...  8.4318  0.03  392  2388  100.0  39.00  23.4236  190        0   \n",
       "2  14.62  ...  8.4178  0.03  390  2388  100.0  38.95  23.3442  189        0   \n",
       "3  14.62  ...  8.3682  0.03  392  2388  100.0  38.88  23.3739  188        0   \n",
       "4  14.62  ...  8.4294  0.03  393  2388  100.0  38.90  23.4044  187        0   \n",
       "\n",
       "   label_2  \n",
       "0        0  \n",
       "1        0  \n",
       "2        0  \n",
       "3        0  \n",
       "4        0  \n",
       "\n",
       "[5 rows x 29 columns]"
      ]
     },
     "execution_count": 4,
     "metadata": {},
     "output_type": "execute_result"
    }
   ],
   "source": [
    "#label_1\n",
    "train_df['label_1'] = np.where(train_df['RUL'] <= 30, 1, 0)\n",
    "\n",
    "#label_2\n",
    "train_df['label_2'] = np.where(train_df['RUL'] <= 30, 1, 0)\n",
    "train_df.loc[train_df['RUL'] <= 15, 'label_2'] = 2\n",
    "train_df.head()"
   ]
  },
  {
   "cell_type": "markdown",
   "id": "8629d44a",
   "metadata": {},
   "source": [
    "We need to normalize columns as we need all the values to use common scale without distorting the differences in the ranges of values or losing information."
   ]
  },
  {
   "cell_type": "code",
   "execution_count": 5,
   "id": "f25e7b12",
   "metadata": {},
   "outputs": [],
   "source": [
    "train_df['cycle_norm'] = train_df['cycle']\n",
    "cols_normalize = train_df.columns.difference(['id','cycle','RUL','label_1','label_2'])\n",
    "min_max_scaler = MinMaxScaler()\n",
    "norm_train_df = pd.DataFrame(min_max_scaler.fit_transform(train_df[cols_normalize]), \n",
    "                             columns=cols_normalize, \n",
    "                             index=train_df.index)\n",
    "join_df = train_df[train_df.columns.difference(cols_normalize)].join(norm_train_df)\n",
    "train_df = join_df.reindex(columns = train_df.columns)\n",
    "#train_df.head()"
   ]
  },
  {
   "cell_type": "code",
   "execution_count": 6,
   "id": "3d185acc",
   "metadata": {},
   "outputs": [],
   "source": [
    "test_df['cycle_norm'] = test_df['cycle']\n",
    "norm_test_df = pd.DataFrame(min_max_scaler.transform(test_df[cols_normalize]), \n",
    "                            columns=cols_normalize, \n",
    "                            index=test_df.index)\n",
    "test_join_df = test_df[test_df.columns.difference(cols_normalize)].join(norm_test_df)\n",
    "test_df = test_join_df.reindex(columns = test_df.columns)\n",
    "test_df = test_df.reset_index(drop=True)\n",
    "#test_df.head()"
   ]
  },
  {
   "cell_type": "markdown",
   "id": "95bdb7e9",
   "metadata": {},
   "source": [
    "Now we will need to generate labels for test data using the truth dataset"
   ]
  },
  {
   "cell_type": "code",
   "execution_count": 7,
   "id": "1f91582f",
   "metadata": {},
   "outputs": [
    {
     "data": {
      "text/html": [
       "<div>\n",
       "<style scoped>\n",
       "    .dataframe tbody tr th:only-of-type {\n",
       "        vertical-align: middle;\n",
       "    }\n",
       "\n",
       "    .dataframe tbody tr th {\n",
       "        vertical-align: top;\n",
       "    }\n",
       "\n",
       "    .dataframe thead th {\n",
       "        text-align: right;\n",
       "    }\n",
       "</style>\n",
       "<table border=\"1\" class=\"dataframe\">\n",
       "  <thead>\n",
       "    <tr style=\"text-align: right;\">\n",
       "      <th></th>\n",
       "      <th>id</th>\n",
       "      <th>cycle</th>\n",
       "      <th>setting1</th>\n",
       "      <th>setting2</th>\n",
       "      <th>setting3</th>\n",
       "      <th>s1</th>\n",
       "      <th>s2</th>\n",
       "      <th>s3</th>\n",
       "      <th>s4</th>\n",
       "      <th>s5</th>\n",
       "      <th>...</th>\n",
       "      <th>s14</th>\n",
       "      <th>s15</th>\n",
       "      <th>s16</th>\n",
       "      <th>s17</th>\n",
       "      <th>s18</th>\n",
       "      <th>s19</th>\n",
       "      <th>s20</th>\n",
       "      <th>s21</th>\n",
       "      <th>cycle_norm</th>\n",
       "      <th>RUL</th>\n",
       "    </tr>\n",
       "  </thead>\n",
       "  <tbody>\n",
       "    <tr>\n",
       "      <th>0</th>\n",
       "      <td>1</td>\n",
       "      <td>1</td>\n",
       "      <td>0.632184</td>\n",
       "      <td>0.750000</td>\n",
       "      <td>0.0</td>\n",
       "      <td>0.0</td>\n",
       "      <td>0.545181</td>\n",
       "      <td>0.310661</td>\n",
       "      <td>0.269413</td>\n",
       "      <td>0.0</td>\n",
       "      <td>...</td>\n",
       "      <td>0.132160</td>\n",
       "      <td>0.308965</td>\n",
       "      <td>0.0</td>\n",
       "      <td>0.333333</td>\n",
       "      <td>0.0</td>\n",
       "      <td>0.0</td>\n",
       "      <td>0.558140</td>\n",
       "      <td>0.661834</td>\n",
       "      <td>0.00000</td>\n",
       "      <td>142.0</td>\n",
       "    </tr>\n",
       "    <tr>\n",
       "      <th>1</th>\n",
       "      <td>1</td>\n",
       "      <td>2</td>\n",
       "      <td>0.344828</td>\n",
       "      <td>0.250000</td>\n",
       "      <td>0.0</td>\n",
       "      <td>0.0</td>\n",
       "      <td>0.150602</td>\n",
       "      <td>0.379551</td>\n",
       "      <td>0.222316</td>\n",
       "      <td>0.0</td>\n",
       "      <td>...</td>\n",
       "      <td>0.204768</td>\n",
       "      <td>0.213159</td>\n",
       "      <td>0.0</td>\n",
       "      <td>0.416667</td>\n",
       "      <td>0.0</td>\n",
       "      <td>0.0</td>\n",
       "      <td>0.682171</td>\n",
       "      <td>0.686827</td>\n",
       "      <td>0.00277</td>\n",
       "      <td>141.0</td>\n",
       "    </tr>\n",
       "    <tr>\n",
       "      <th>2</th>\n",
       "      <td>1</td>\n",
       "      <td>3</td>\n",
       "      <td>0.517241</td>\n",
       "      <td>0.583333</td>\n",
       "      <td>0.0</td>\n",
       "      <td>0.0</td>\n",
       "      <td>0.376506</td>\n",
       "      <td>0.346632</td>\n",
       "      <td>0.322248</td>\n",
       "      <td>0.0</td>\n",
       "      <td>...</td>\n",
       "      <td>0.155640</td>\n",
       "      <td>0.458638</td>\n",
       "      <td>0.0</td>\n",
       "      <td>0.416667</td>\n",
       "      <td>0.0</td>\n",
       "      <td>0.0</td>\n",
       "      <td>0.728682</td>\n",
       "      <td>0.721348</td>\n",
       "      <td>0.00554</td>\n",
       "      <td>140.0</td>\n",
       "    </tr>\n",
       "    <tr>\n",
       "      <th>3</th>\n",
       "      <td>1</td>\n",
       "      <td>4</td>\n",
       "      <td>0.741379</td>\n",
       "      <td>0.500000</td>\n",
       "      <td>0.0</td>\n",
       "      <td>0.0</td>\n",
       "      <td>0.370482</td>\n",
       "      <td>0.285154</td>\n",
       "      <td>0.408001</td>\n",
       "      <td>0.0</td>\n",
       "      <td>...</td>\n",
       "      <td>0.170090</td>\n",
       "      <td>0.257022</td>\n",
       "      <td>0.0</td>\n",
       "      <td>0.250000</td>\n",
       "      <td>0.0</td>\n",
       "      <td>0.0</td>\n",
       "      <td>0.666667</td>\n",
       "      <td>0.662110</td>\n",
       "      <td>0.00831</td>\n",
       "      <td>139.0</td>\n",
       "    </tr>\n",
       "    <tr>\n",
       "      <th>4</th>\n",
       "      <td>1</td>\n",
       "      <td>5</td>\n",
       "      <td>0.580460</td>\n",
       "      <td>0.500000</td>\n",
       "      <td>0.0</td>\n",
       "      <td>0.0</td>\n",
       "      <td>0.391566</td>\n",
       "      <td>0.352082</td>\n",
       "      <td>0.332039</td>\n",
       "      <td>0.0</td>\n",
       "      <td>...</td>\n",
       "      <td>0.152751</td>\n",
       "      <td>0.300885</td>\n",
       "      <td>0.0</td>\n",
       "      <td>0.166667</td>\n",
       "      <td>0.0</td>\n",
       "      <td>0.0</td>\n",
       "      <td>0.658915</td>\n",
       "      <td>0.716377</td>\n",
       "      <td>0.01108</td>\n",
       "      <td>138.0</td>\n",
       "    </tr>\n",
       "  </tbody>\n",
       "</table>\n",
       "<p>5 rows × 28 columns</p>\n",
       "</div>"
      ],
      "text/plain": [
       "   id  cycle  setting1  setting2  setting3   s1        s2        s3        s4  \\\n",
       "0   1      1  0.632184  0.750000       0.0  0.0  0.545181  0.310661  0.269413   \n",
       "1   1      2  0.344828  0.250000       0.0  0.0  0.150602  0.379551  0.222316   \n",
       "2   1      3  0.517241  0.583333       0.0  0.0  0.376506  0.346632  0.322248   \n",
       "3   1      4  0.741379  0.500000       0.0  0.0  0.370482  0.285154  0.408001   \n",
       "4   1      5  0.580460  0.500000       0.0  0.0  0.391566  0.352082  0.332039   \n",
       "\n",
       "    s5  ...       s14       s15  s16       s17  s18  s19       s20       s21  \\\n",
       "0  0.0  ...  0.132160  0.308965  0.0  0.333333  0.0  0.0  0.558140  0.661834   \n",
       "1  0.0  ...  0.204768  0.213159  0.0  0.416667  0.0  0.0  0.682171  0.686827   \n",
       "2  0.0  ...  0.155640  0.458638  0.0  0.416667  0.0  0.0  0.728682  0.721348   \n",
       "3  0.0  ...  0.170090  0.257022  0.0  0.250000  0.0  0.0  0.666667  0.662110   \n",
       "4  0.0  ...  0.152751  0.300885  0.0  0.166667  0.0  0.0  0.658915  0.716377   \n",
       "\n",
       "   cycle_norm    RUL  \n",
       "0     0.00000  142.0  \n",
       "1     0.00277  141.0  \n",
       "2     0.00554  140.0  \n",
       "3     0.00831  139.0  \n",
       "4     0.01108  138.0  \n",
       "\n",
       "[5 rows x 28 columns]"
      ]
     },
     "execution_count": 7,
     "metadata": {},
     "output_type": "execute_result"
    }
   ],
   "source": [
    "temp = pd.DataFrame(test_df.groupby('id')['cycle'].max()).reset_index()\n",
    "temp.columns = ['id', 'max']\n",
    "truth_df.columns = ['add']\n",
    "truth_df['id'] = 1 + truth_df.index\n",
    "truth_df['max'] = temp['max'] + truth_df['add']\n",
    "truth_df.drop('add', axis = 1, inplace = True)\n",
    "\n",
    "#Creating Remaining useful Life(RUL) from test data\n",
    "test_df = test_df.merge(truth_df, on=['id'], how = 'left')\n",
    "test_df['RUL'] = test_df['max'] - test_df['cycle']\n",
    "test_df.drop('max', axis = 1, inplace = True)\n",
    "\n",
    "test_df.head()"
   ]
  },
  {
   "cell_type": "markdown",
   "id": "d84cc108",
   "metadata": {},
   "source": [
    "Now we need to create the same labels like training data:- \n",
    "* label_1 - Indicating engine will fail within a month(30 days)\n",
    "* label_2 - Indicating healthy, RUL <= 30, RUL <= 15"
   ]
  },
  {
   "cell_type": "code",
   "execution_count": 8,
   "id": "db1d3ad2",
   "metadata": {},
   "outputs": [
    {
     "data": {
      "text/html": [
       "<div>\n",
       "<style scoped>\n",
       "    .dataframe tbody tr th:only-of-type {\n",
       "        vertical-align: middle;\n",
       "    }\n",
       "\n",
       "    .dataframe tbody tr th {\n",
       "        vertical-align: top;\n",
       "    }\n",
       "\n",
       "    .dataframe thead th {\n",
       "        text-align: right;\n",
       "    }\n",
       "</style>\n",
       "<table border=\"1\" class=\"dataframe\">\n",
       "  <thead>\n",
       "    <tr style=\"text-align: right;\">\n",
       "      <th></th>\n",
       "      <th>id</th>\n",
       "      <th>cycle</th>\n",
       "      <th>setting1</th>\n",
       "      <th>setting2</th>\n",
       "      <th>setting3</th>\n",
       "      <th>s1</th>\n",
       "      <th>s2</th>\n",
       "      <th>s3</th>\n",
       "      <th>s4</th>\n",
       "      <th>s5</th>\n",
       "      <th>...</th>\n",
       "      <th>s16</th>\n",
       "      <th>s17</th>\n",
       "      <th>s18</th>\n",
       "      <th>s19</th>\n",
       "      <th>s20</th>\n",
       "      <th>s21</th>\n",
       "      <th>cycle_norm</th>\n",
       "      <th>RUL</th>\n",
       "      <th>label_1</th>\n",
       "      <th>label_2</th>\n",
       "    </tr>\n",
       "  </thead>\n",
       "  <tbody>\n",
       "    <tr>\n",
       "      <th>0</th>\n",
       "      <td>1</td>\n",
       "      <td>1</td>\n",
       "      <td>0.632184</td>\n",
       "      <td>0.750000</td>\n",
       "      <td>0.0</td>\n",
       "      <td>0.0</td>\n",
       "      <td>0.545181</td>\n",
       "      <td>0.310661</td>\n",
       "      <td>0.269413</td>\n",
       "      <td>0.0</td>\n",
       "      <td>...</td>\n",
       "      <td>0.0</td>\n",
       "      <td>0.333333</td>\n",
       "      <td>0.0</td>\n",
       "      <td>0.0</td>\n",
       "      <td>0.558140</td>\n",
       "      <td>0.661834</td>\n",
       "      <td>0.00000</td>\n",
       "      <td>142.0</td>\n",
       "      <td>0</td>\n",
       "      <td>0</td>\n",
       "    </tr>\n",
       "    <tr>\n",
       "      <th>1</th>\n",
       "      <td>1</td>\n",
       "      <td>2</td>\n",
       "      <td>0.344828</td>\n",
       "      <td>0.250000</td>\n",
       "      <td>0.0</td>\n",
       "      <td>0.0</td>\n",
       "      <td>0.150602</td>\n",
       "      <td>0.379551</td>\n",
       "      <td>0.222316</td>\n",
       "      <td>0.0</td>\n",
       "      <td>...</td>\n",
       "      <td>0.0</td>\n",
       "      <td>0.416667</td>\n",
       "      <td>0.0</td>\n",
       "      <td>0.0</td>\n",
       "      <td>0.682171</td>\n",
       "      <td>0.686827</td>\n",
       "      <td>0.00277</td>\n",
       "      <td>141.0</td>\n",
       "      <td>0</td>\n",
       "      <td>0</td>\n",
       "    </tr>\n",
       "    <tr>\n",
       "      <th>2</th>\n",
       "      <td>1</td>\n",
       "      <td>3</td>\n",
       "      <td>0.517241</td>\n",
       "      <td>0.583333</td>\n",
       "      <td>0.0</td>\n",
       "      <td>0.0</td>\n",
       "      <td>0.376506</td>\n",
       "      <td>0.346632</td>\n",
       "      <td>0.322248</td>\n",
       "      <td>0.0</td>\n",
       "      <td>...</td>\n",
       "      <td>0.0</td>\n",
       "      <td>0.416667</td>\n",
       "      <td>0.0</td>\n",
       "      <td>0.0</td>\n",
       "      <td>0.728682</td>\n",
       "      <td>0.721348</td>\n",
       "      <td>0.00554</td>\n",
       "      <td>140.0</td>\n",
       "      <td>0</td>\n",
       "      <td>0</td>\n",
       "    </tr>\n",
       "    <tr>\n",
       "      <th>3</th>\n",
       "      <td>1</td>\n",
       "      <td>4</td>\n",
       "      <td>0.741379</td>\n",
       "      <td>0.500000</td>\n",
       "      <td>0.0</td>\n",
       "      <td>0.0</td>\n",
       "      <td>0.370482</td>\n",
       "      <td>0.285154</td>\n",
       "      <td>0.408001</td>\n",
       "      <td>0.0</td>\n",
       "      <td>...</td>\n",
       "      <td>0.0</td>\n",
       "      <td>0.250000</td>\n",
       "      <td>0.0</td>\n",
       "      <td>0.0</td>\n",
       "      <td>0.666667</td>\n",
       "      <td>0.662110</td>\n",
       "      <td>0.00831</td>\n",
       "      <td>139.0</td>\n",
       "      <td>0</td>\n",
       "      <td>0</td>\n",
       "    </tr>\n",
       "    <tr>\n",
       "      <th>4</th>\n",
       "      <td>1</td>\n",
       "      <td>5</td>\n",
       "      <td>0.580460</td>\n",
       "      <td>0.500000</td>\n",
       "      <td>0.0</td>\n",
       "      <td>0.0</td>\n",
       "      <td>0.391566</td>\n",
       "      <td>0.352082</td>\n",
       "      <td>0.332039</td>\n",
       "      <td>0.0</td>\n",
       "      <td>...</td>\n",
       "      <td>0.0</td>\n",
       "      <td>0.166667</td>\n",
       "      <td>0.0</td>\n",
       "      <td>0.0</td>\n",
       "      <td>0.658915</td>\n",
       "      <td>0.716377</td>\n",
       "      <td>0.01108</td>\n",
       "      <td>138.0</td>\n",
       "      <td>0</td>\n",
       "      <td>0</td>\n",
       "    </tr>\n",
       "  </tbody>\n",
       "</table>\n",
       "<p>5 rows × 30 columns</p>\n",
       "</div>"
      ],
      "text/plain": [
       "   id  cycle  setting1  setting2  setting3   s1        s2        s3        s4  \\\n",
       "0   1      1  0.632184  0.750000       0.0  0.0  0.545181  0.310661  0.269413   \n",
       "1   1      2  0.344828  0.250000       0.0  0.0  0.150602  0.379551  0.222316   \n",
       "2   1      3  0.517241  0.583333       0.0  0.0  0.376506  0.346632  0.322248   \n",
       "3   1      4  0.741379  0.500000       0.0  0.0  0.370482  0.285154  0.408001   \n",
       "4   1      5  0.580460  0.500000       0.0  0.0  0.391566  0.352082  0.332039   \n",
       "\n",
       "    s5  ...  s16       s17  s18  s19       s20       s21  cycle_norm    RUL  \\\n",
       "0  0.0  ...  0.0  0.333333  0.0  0.0  0.558140  0.661834     0.00000  142.0   \n",
       "1  0.0  ...  0.0  0.416667  0.0  0.0  0.682171  0.686827     0.00277  141.0   \n",
       "2  0.0  ...  0.0  0.416667  0.0  0.0  0.728682  0.721348     0.00554  140.0   \n",
       "3  0.0  ...  0.0  0.250000  0.0  0.0  0.666667  0.662110     0.00831  139.0   \n",
       "4  0.0  ...  0.0  0.166667  0.0  0.0  0.658915  0.716377     0.01108  138.0   \n",
       "\n",
       "   label_1  label_2  \n",
       "0        0        0  \n",
       "1        0        0  \n",
       "2        0        0  \n",
       "3        0        0  \n",
       "4        0        0  \n",
       "\n",
       "[5 rows x 30 columns]"
      ]
     },
     "execution_count": 8,
     "metadata": {},
     "output_type": "execute_result"
    }
   ],
   "source": [
    "#label_1\n",
    "test_df['label_1'] = np.where(test_df['RUL'] <= 30, 1, 0)\n",
    "\n",
    "#label_2\n",
    "test_df['label_2'] = np.where(test_df['RUL'] <= 30, 1, 0)\n",
    "test_df.loc[test_df['RUL'] <= 15, 'label_2'] = 2\n",
    "test_df.head()"
   ]
  },
  {
   "cell_type": "markdown",
   "id": "f49bb41c",
   "metadata": {},
   "source": [
    "## 2. Modelling"
   ]
  },
  {
   "cell_type": "markdown",
   "id": "8ff96bf1",
   "metadata": {},
   "source": [
    "There are various options in Recurrent Neural Networks(RNN), but using LSTM(Long Short Term Memory) since there can be lags of unknown duration between important events in a time series. LSTMs were developed to deal with the vanishing gradient problem that can be encountered when training traditional RNNs. "
   ]
  },
  {
   "cell_type": "markdown",
   "id": "a3e18cce",
   "metadata": {},
   "source": [
    "LSTM is used in time-series domains, and one of the parameter is the sequence length. We need to define cycles for rolling features. \n",
    "\n",
    "We allow the LSTMs to derive abstract features from the sequence of sensor data within the window using deep learning. Patterns within these sensor readings are expected to be automatically encoded by the LSTM.\n",
    "\n",
    "Another key benefit of LSTMs is their capacity to recall long-term sequences (window sizes), which is difficult to achieve with standard feature engineering. Due to the smoothing over such a lengthy time, computing rolling averages with a window size of 50 cycles may result in information loss. LSTMs can work with wider windows and use all of the data in the window as input."
   ]
  },
  {
   "cell_type": "markdown",
   "id": "1bf43c79",
   "metadata": {},
   "source": [
    "We will use sequel length of 50 cycles to predict the probability of engine failure within 30 days."
   ]
  },
  {
   "cell_type": "code",
   "execution_count": 9,
   "id": "f0edabbb",
   "metadata": {},
   "outputs": [],
   "source": [
    "sequence_length = 50"
   ]
  },
  {
   "cell_type": "markdown",
   "id": "857fc039",
   "metadata": {},
   "source": [
    "We need a  function to reshape features into an array of 3 dimensions(samples, time steps, features)"
   ]
  },
  {
   "cell_type": "code",
   "execution_count": 10,
   "id": "616548e4",
   "metadata": {},
   "outputs": [],
   "source": [
    "'''No padding is used, and only sequences that fit the window-length are examined. This implies that for testing purposes, \n",
    "those that are shorter than the window-length must be removed. Pad sequences so that we may utilise shorter ones as an option'''\n",
    "\n",
    "def sequence(id_df, seq_length, seq_cols):\n",
    "    array = id_df[seq_cols].values\n",
    "    num_elem = array.shape[0]\n",
    "    \n",
    "    for start, stop in zip(range(0, num_elem - seq_length), range(seq_length, num_elem)):\n",
    "        yield array[start:stop, :]"
   ]
  },
  {
   "cell_type": "markdown",
   "id": "3645ebf8",
   "metadata": {},
   "source": [
    "The sequences are built from the features(sensor and settings) values across the time steps(cycles) within each engine."
   ]
  },
  {
   "cell_type": "code",
   "execution_count": 11,
   "id": "ffa6a2aa",
   "metadata": {
    "scrolled": true
   },
   "outputs": [
    {
     "name": "stdout",
     "output_type": "stream",
     "text": [
      "['setting1', 'setting2', 'setting3', 'cycle_norm', 's1', 's2', 's3', 's4', 's5', 's6', 's7', 's8', 's9', 's10', 's11', 's12', 's13', 's14', 's15', 's16', 's17', 's18', 's19', 's20', 's21']\n"
     ]
    }
   ],
   "source": [
    "# pick the feature columns \n",
    "sequence_cols = ['setting1', 'setting2', 'setting3', 'cycle_norm']\n",
    "key_cols = ['id', 'cycle']\n",
    "label_cols = ['label_1', 'label_2', 'RUL']\n",
    "\n",
    "input_features = test_df.columns.values.tolist()\n",
    "sensor_cols = [x for x in input_features if x not in set(key_cols)]\n",
    "sensor_cols = [x for x in sensor_cols if x not in set(label_cols)]\n",
    "sensor_cols = [x for x in sensor_cols if x not in set(sequence_cols)]\n",
    "\n",
    "# The time is sequenced along\n",
    "# This may be a silly way to get these column names, but it's relatively clear\n",
    "sequence_cols.extend(sensor_cols)\n",
    "\n",
    "print(sequence_cols)"
   ]
  },
  {
   "cell_type": "code",
   "execution_count": 12,
   "id": "2f02c2e1",
   "metadata": {},
   "outputs": [
    {
     "data": {
      "text/plain": [
       "(15631, 50, 25)"
      ]
     },
     "execution_count": 12,
     "metadata": {},
     "output_type": "execute_result"
    }
   ],
   "source": [
    "# Generator for the sequences\n",
    "\n",
    "seq_gen = (list(sequence(train_df[train_df['id'] == id], sequence_length,\n",
    "                        sequence_cols)) for id in train_df['id'].unique())\n",
    "\n",
    "seq_array = np.concatenate(list(seq_gen)).astype(np.float32)\n",
    "seq_array.shape"
   ]
  },
  {
   "cell_type": "markdown",
   "id": "171ca7d5",
   "metadata": {},
   "source": [
    "Now we need to create a function to label these sequences"
   ]
  },
  {
   "cell_type": "code",
   "execution_count": 13,
   "id": "29540069",
   "metadata": {},
   "outputs": [],
   "source": [
    "# function to generate labels\n",
    "\n",
    "def gen_labels(id_df, seq_length, label):\n",
    "    array = id_df[label].values\n",
    "    num_elements = array.shape[0]\n",
    "    return array[seq_length:num_elements, :]"
   ]
  },
  {
   "cell_type": "markdown",
   "id": "ae00326b",
   "metadata": {},
   "source": [
    "As we are focusing on predicting failure within the 30 days, that is, label_1."
   ]
  },
  {
   "cell_type": "code",
   "execution_count": 14,
   "id": "55f79466",
   "metadata": {},
   "outputs": [
    {
     "data": {
      "text/plain": [
       "(15631, 1)"
      ]
     },
     "execution_count": 14,
     "metadata": {},
     "output_type": "execute_result"
    }
   ],
   "source": [
    "#generate labels\n",
    "\n",
    "label_gen = [gen_labels(train_df[train_df['id'] == id], sequence_length,\n",
    "                       ['label_1']) for id in train_df['id'].unique()]\n",
    "\n",
    "label_array = np.concatenate(label_gen).astype(np.float32)\n",
    "label_array.shape"
   ]
  },
  {
   "cell_type": "markdown",
   "id": "5d5babb4",
   "metadata": {},
   "source": [
    "### LSTM Model"
   ]
  },
  {
   "cell_type": "markdown",
   "id": "9da5e8de",
   "metadata": {},
   "source": [
    "The network architecture must be determined before a Neural Net can be built. In this case, we'll create a two-layer network with dropout. The initial LSTM layer has 100 units, one for each input sequence, and is followed by a 50-unit LSTM layer. Dropout will be applied to each LSTM layer to prevent overfitting. The sigmoid activation used in the last dense output layer corresponds to the binary classification criterion."
   ]
  },
  {
   "cell_type": "code",
   "execution_count": 15,
   "id": "5d79db8d",
   "metadata": {},
   "outputs": [
    {
     "name": "stdout",
     "output_type": "stream",
     "text": [
      "Model: \"sequential\"\n",
      "_________________________________________________________________\n",
      " Layer (type)                Output Shape              Param #   \n",
      "=================================================================\n",
      " lstm (LSTM)                 (None, 50, 100)           50400     \n",
      "                                                                 \n",
      " dropout (Dropout)           (None, 50, 100)           0         \n",
      "                                                                 \n",
      " lstm_1 (LSTM)               (None, 50)                30200     \n",
      "                                                                 \n",
      " dropout_1 (Dropout)         (None, 50)                0         \n",
      "                                                                 \n",
      " dense (Dense)               (None, 1)                 51        \n",
      "                                                                 \n",
      "=================================================================\n",
      "Total params: 80,651\n",
      "Trainable params: 80,651\n",
      "Non-trainable params: 0\n",
      "_________________________________________________________________\n",
      "None\n"
     ]
    }
   ],
   "source": [
    "# build the network\n",
    "# Feature weights\n",
    "nb_features = seq_array.shape[2]\n",
    "nb_out = label_array.shape[1]\n",
    "\n",
    "# LSTM model\n",
    "model = Sequential()\n",
    "\n",
    "# The first layer\n",
    "model.add(LSTM(\n",
    "         input_shape=(sequence_length, nb_features),\n",
    "         units=100,\n",
    "         return_sequences=True))\n",
    "\n",
    "# Plus a 20% dropout rate\n",
    "model.add(Dropout(0.2))\n",
    "\n",
    "# The second layer\n",
    "model.add(LSTM(\n",
    "          units=50,\n",
    "          return_sequences=False))\n",
    "\n",
    "# Plus a 20% dropout rate\n",
    "model.add(Dropout(0.2))\n",
    "\n",
    "# Dense sigmoid layer\n",
    "model.add(Dense(units=nb_out, activation='sigmoid'))\n",
    "\n",
    "# With adam optimizer and a binary crossentropy loss. We will opimize for model accuracy.\n",
    "model.compile(loss='binary_crossentropy', optimizer='adam', metrics=['accuracy'])\n",
    "\n",
    "# Verify the architecture \n",
    "print(model.summary())"
   ]
  },
  {
   "cell_type": "code",
   "execution_count": 16,
   "id": "4fcf7d95",
   "metadata": {},
   "outputs": [],
   "source": [
    "from keras.models import Sequential\n",
    "from keras.layers import Dense, Dropout, LSTM, Activation\n",
    "from keras.callbacks import EarlyStopping"
   ]
  },
  {
   "cell_type": "code",
   "execution_count": 17,
   "id": "b615b9a7",
   "metadata": {},
   "outputs": [
    {
     "name": "stdout",
     "output_type": "stream",
     "text": [
      "Epoch 1/10\n",
      "71/71 [==============================] - 10s 104ms/step - loss: 0.2657 - accuracy: 0.8897 - val_loss: 0.1237 - val_accuracy: 0.9444\n",
      "Epoch 2/10\n",
      "71/71 [==============================] - 7s 96ms/step - loss: 0.1025 - accuracy: 0.9594 - val_loss: 0.0945 - val_accuracy: 0.9565\n",
      "Epoch 3/10\n",
      "71/71 [==============================] - 7s 100ms/step - loss: 0.0870 - accuracy: 0.9633 - val_loss: 0.0558 - val_accuracy: 0.9904\n",
      "Epoch 4/10\n",
      "71/71 [==============================] - 7s 100ms/step - loss: 0.0794 - accuracy: 0.9676 - val_loss: 0.0447 - val_accuracy: 0.9872\n",
      "Epoch 5/10\n",
      "71/71 [==============================] - 7s 102ms/step - loss: 0.0676 - accuracy: 0.9730 - val_loss: 0.0517 - val_accuracy: 0.9770\n",
      "Epoch 6/10\n",
      "71/71 [==============================] - 7s 100ms/step - loss: 0.0628 - accuracy: 0.9735 - val_loss: 0.0537 - val_accuracy: 0.9706\n",
      "Epoch 7/10\n",
      "71/71 [==============================] - 7s 101ms/step - loss: 0.0676 - accuracy: 0.9716 - val_loss: 0.0551 - val_accuracy: 0.9725\n",
      "Epoch 8/10\n",
      "71/71 [==============================] - 7s 100ms/step - loss: 0.0611 - accuracy: 0.9754 - val_loss: 0.0458 - val_accuracy: 0.9795\n",
      "Epoch 9/10\n",
      "71/71 [==============================] - 7s 101ms/step - loss: 0.0658 - accuracy: 0.9727 - val_loss: 0.0721 - val_accuracy: 0.9655\n",
      "Wall time: 1min 6s\n"
     ]
    },
    {
     "data": {
      "text/plain": [
       "<keras.callbacks.History at 0x1cf0d5ed490>"
      ]
     },
     "execution_count": 17,
     "metadata": {},
     "output_type": "execute_result"
    }
   ],
   "source": [
    "%%time\n",
    "# fit the network\n",
    "model.fit(seq_array, # Training features\n",
    "          label_array, # Training labels\n",
    "          epochs=10,   # We'll stop after 10 epochs\n",
    "          batch_size=200, # \n",
    "          validation_split=0.10, # Use 10% of data to evaluate the loss. (val_loss)\n",
    "          verbose=1, #\n",
    "          callbacks = [keras.callbacks.EarlyStopping(monitor='val_loss', # Monitor the validation loss\n",
    "                                                     min_delta=0,    # until it doesn't change (or gets worse)\n",
    "                                                     patience=5,  # patience > 1 so it continutes if it is not consistently improving\n",
    "                                                     verbose=0, \n",
    "                                                     mode='auto')]) \n"
   ]
  },
  {
   "cell_type": "code",
   "execution_count": 18,
   "id": "7fee0359",
   "metadata": {},
   "outputs": [
    {
     "name": "stdout",
     "output_type": "stream",
     "text": [
      "79/79 [==============================] - 3s 39ms/step - loss: 0.0768 - accuracy: 0.9648\n",
      "Training Accurracy: 0.9648135304450989\n"
     ]
    }
   ],
   "source": [
    "# training metrics\n",
    "scores = model.evaluate(seq_array, label_array, verbose=1, batch_size=200)\n",
    "print('Training Accurracy: {}'.format(scores[1]))"
   ]
  },
  {
   "cell_type": "code",
   "execution_count": 19,
   "id": "456e5852",
   "metadata": {},
   "outputs": [
    {
     "data": {
      "text/plain": [
       "(11939, 30)"
      ]
     },
     "execution_count": 19,
     "metadata": {},
     "output_type": "execute_result"
    }
   ],
   "source": [
    "test_df.shape"
   ]
  },
  {
   "cell_type": "markdown",
   "id": "5f41d17c",
   "metadata": {},
   "source": [
    "### Model Testing"
   ]
  },
  {
   "cell_type": "code",
   "execution_count": 26,
   "id": "efca231b",
   "metadata": {},
   "outputs": [],
   "source": [
    "test = test_df.drop(label_cols, axis = 1)"
   ]
  },
  {
   "cell_type": "code",
   "execution_count": 39,
   "id": "d22f4f08",
   "metadata": {},
   "outputs": [],
   "source": [
    "def run(test): \n",
    "    # Create the sequences\n",
    "    sequence_length = 50\n",
    "    sequence_cols = ['setting1', 'setting2', 'setting3', 'cycle_norm']\n",
    "    key_cols = ['id', 'cycle']\n",
    "\n",
    "    # Feature engineering\n",
    "    input_features = test.columns.values.tolist()\n",
    "    sensor_cols = [x for x in input_features if x not in set(key_cols)]\n",
    "    sensor_cols = [x for x in sensor_cols if x not in set(sequence_cols)]\n",
    "\n",
    "    # The time is sequenced along\n",
    "    # This may be a silly way to get these column names, but it's relatively clear\n",
    "    sequence_cols.extend(sensor_cols)\n",
    "    \n",
    "    seq_array = [test[test['id']==id][sequence_cols].values[-sequence_length:] \n",
    "                 for id in test['id'].unique() if len(test[test['id']==id]) >= sequence_length]\n",
    "\n",
    "    seq_array = np.asarray(seq_array).astype(np.float32)\n",
    "    try:\n",
    "        prediction = model.predict(seq_array)\n",
    "        #print(prediction)\n",
    "        pred = prediction.tolist()\n",
    "        return(pred)\n",
    "    except Exception as e:\n",
    "        return(str(e))"
   ]
  },
  {
   "cell_type": "code",
   "execution_count": 167,
   "id": "408dc0bd",
   "metadata": {},
   "outputs": [],
   "source": [
    "predictions = []\n",
    "for x in range(0,100):\n",
    "    try:\n",
    "        tst_df = test.loc[test['id'] == x]\n",
    "        ans=run(tst_df)\n",
    "        predictions.append(ans[0][0])\n",
    "    except:\n",
    "        pass\n",
    "\n",
    "df = pd.DataFrame(predictions, columns = ['pred'])\n",
    "df['machine_number'] = df.index + 1\n"
   ]
  },
  {
   "cell_type": "code",
   "execution_count": 168,
   "id": "3e433fd0",
   "metadata": {},
   "outputs": [
    {
     "data": {
      "text/html": [
       "<div>\n",
       "<style scoped>\n",
       "    .dataframe tbody tr th:only-of-type {\n",
       "        vertical-align: middle;\n",
       "    }\n",
       "\n",
       "    .dataframe tbody tr th {\n",
       "        vertical-align: top;\n",
       "    }\n",
       "\n",
       "    .dataframe thead th {\n",
       "        text-align: right;\n",
       "    }\n",
       "</style>\n",
       "<table border=\"1\" class=\"dataframe\">\n",
       "  <thead>\n",
       "    <tr style=\"text-align: right;\">\n",
       "      <th></th>\n",
       "      <th>pred</th>\n",
       "      <th>machine_number</th>\n",
       "    </tr>\n",
       "  </thead>\n",
       "  <tbody>\n",
       "    <tr>\n",
       "      <th>68</th>\n",
       "      <td>0.998481</td>\n",
       "      <td>69</td>\n",
       "    </tr>\n",
       "    <tr>\n",
       "      <th>76</th>\n",
       "      <td>0.998239</td>\n",
       "      <td>77</td>\n",
       "    </tr>\n",
       "    <tr>\n",
       "      <th>31</th>\n",
       "      <td>0.998216</td>\n",
       "      <td>32</td>\n",
       "    </tr>\n",
       "    <tr>\n",
       "      <th>34</th>\n",
       "      <td>0.998121</td>\n",
       "      <td>35</td>\n",
       "    </tr>\n",
       "    <tr>\n",
       "      <th>42</th>\n",
       "      <td>0.997457</td>\n",
       "      <td>43</td>\n",
       "    </tr>\n",
       "    <tr>\n",
       "      <th>...</th>\n",
       "      <td>...</td>\n",
       "      <td>...</td>\n",
       "    </tr>\n",
       "    <tr>\n",
       "      <th>7</th>\n",
       "      <td>0.000389</td>\n",
       "      <td>8</td>\n",
       "    </tr>\n",
       "    <tr>\n",
       "      <th>65</th>\n",
       "      <td>0.000369</td>\n",
       "      <td>66</td>\n",
       "    </tr>\n",
       "    <tr>\n",
       "      <th>23</th>\n",
       "      <td>0.0003</td>\n",
       "      <td>24</td>\n",
       "    </tr>\n",
       "    <tr>\n",
       "      <th>78</th>\n",
       "      <td>0.000213</td>\n",
       "      <td>79</td>\n",
       "    </tr>\n",
       "    <tr>\n",
       "      <th>92</th>\n",
       "      <td>NaN</td>\n",
       "      <td>93</td>\n",
       "    </tr>\n",
       "  </tbody>\n",
       "</table>\n",
       "<p>85 rows × 2 columns</p>\n",
       "</div>"
      ],
      "text/plain": [
       "        pred  machine_number\n",
       "68  0.998481              69\n",
       "76  0.998239              77\n",
       "31  0.998216              32\n",
       "34  0.998121              35\n",
       "42  0.997457              43\n",
       "..       ...             ...\n",
       "7   0.000389               8\n",
       "65  0.000369              66\n",
       "23    0.0003              24\n",
       "78  0.000213              79\n",
       "92       NaN              93\n",
       "\n",
       "[85 rows x 2 columns]"
      ]
     },
     "execution_count": 168,
     "metadata": {},
     "output_type": "execute_result"
    }
   ],
   "source": [
    "sorted_df = df[~df['pred'].str.contains('U', na = False)]\n",
    "sorted_df.sort_values(by='pred', ascending=False)\n"
   ]
  },
  {
   "cell_type": "code",
   "execution_count": 170,
   "id": "40d27d0e",
   "metadata": {},
   "outputs": [
    {
     "name": "stdout",
     "output_type": "stream",
     "text": [
      "Enter Machine Number : 19\n",
      "Probability of engine failure in the next 30 days :  67.99344 %\n"
     ]
    }
   ],
   "source": [
    "machine_number = int(input('Enter Machine Number : '))\n",
    "try:\n",
    "    num = round(df[df['machine_number'] == machine_number].iloc[0][0]*100,5)\n",
    "    print('Probability of engine failure in the next 30 days : ', \n",
    "     str(num), '%')\n",
    "except:\n",
    "    print('\\nInformation insufficient')"
   ]
  }
 ],
 "metadata": {
  "kernelspec": {
   "display_name": "Python 3 (ipykernel)",
   "language": "python",
   "name": "python3"
  },
  "language_info": {
   "codemirror_mode": {
    "name": "ipython",
    "version": 3
   },
   "file_extension": ".py",
   "mimetype": "text/x-python",
   "name": "python",
   "nbconvert_exporter": "python",
   "pygments_lexer": "ipython3",
   "version": "3.9.7"
  }
 },
 "nbformat": 4,
 "nbformat_minor": 5
}
